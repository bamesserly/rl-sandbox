{
 "cells": [
  {
   "cell_type": "code",
   "execution_count": 1,
   "id": "d75463bd",
   "metadata": {},
   "outputs": [],
   "source": [
    "%load_ext autoreload\n",
    "%autoreload 2"
   ]
  },
  {
   "cell_type": "markdown",
   "id": "07524bed",
   "metadata": {},
   "source": [
    "# Shower Temperature Beginner Reinforcement Learning Example\n",
    "\n",
    "This script implements the Bellman equation to train a Q table and test it."
   ]
  },
  {
   "cell_type": "markdown",
   "id": "a46cbf14",
   "metadata": {},
   "source": [
    "# Table of contents\n",
    "0. [Intro](#intro)\n",
    "1. [Explore Shower Environment](#environment)\n",
    "2. [Update Q-Table Function](#update_q_table)\n",
    "3. [Train and Test Function](#train_and_test)\n",
    "4. [Do the training and testing](#run)\n",
    "5. [Visualize and Optimize Learning](#visualize_and_optimize)\n",
    "    1. [How Many Training Episodes is Good Enough?](#episodes)\n",
    "    2. [Find Optimal Training Parameters with a Grid Search](#grid_search)"
   ]
  },
  {
   "cell_type": "markdown",
   "id": "1218d672",
   "metadata": {},
   "source": [
    "## 0. Intro <a name=\"intro\"></a>\n",
    "The \"game\" that this environment implements is that you're taking a shower and you want the temperature to stay around a nice temperature.\n",
    "\n",
    "For each second of a shower of a certain length, you can move the temperature up or down one degree.\n",
    "\n",
    "You are rewarded after each second if your shower stays within a temperature sweet spot. You're punished if you're outside that sweet spot."
   ]
  },
  {
   "cell_type": "markdown",
   "id": "594397c8",
   "metadata": {},
   "source": [
    "## 1. Explore Shower Environment <a name=\"environment\"></a>\n",
    "This environment resembles the openai-gym or google's TF-Agents environments with `step`, `render`, and `reset` functions. In fact this environment inherits from open-ai gym's `Env` class, though it doesn't currently use any of its parent's features.\n",
    "\n",
    "Here, sample the observation and actions spaces and run a few showers with random decision making."
   ]
  },
  {
   "cell_type": "code",
   "execution_count": 2,
   "id": "2c6a1973",
   "metadata": {},
   "outputs": [],
   "source": [
    "from shower_environment import Shower"
   ]
  },
  {
   "cell_type": "code",
   "execution_count": 3,
   "id": "6bd8e615",
   "metadata": {},
   "outputs": [
    {
     "name": "stdout",
     "output_type": "stream",
     "text": [
      "Random valid temperature: 0\n",
      "Random valid temperature change: -1\n",
      "\n",
      "A few random showers:\n",
      "Episode: 1 Score: 10\n",
      "Episode: 2 Score: -60\n",
      "Episode: 3 Score: -58\n",
      "Episode: 4 Score: -60\n",
      "Episode: 5 Score: -60\n"
     ]
    }
   ],
   "source": [
    "env = Shower()\n",
    "\n",
    "print(\"Random valid temperature:\", env.observation_space.sample())\n",
    "print(\"Random valid temperature change:\", env.action_space.sample()-1)\n",
    "\n",
    "print(\"\\nA few random showers:\")\n",
    "episodes = 5\n",
    "for episode in range(1, episodes+1):\n",
    "    state = env.reset()\n",
    "    done = False\n",
    "    score = 0 \n",
    "    \n",
    "    while not done:\n",
    "        #env.render()\n",
    "        action = env.action_space.sample()\n",
    "        n_state, reward, done, info = env.step(action)\n",
    "        score+=reward\n",
    "    print(f\"Episode: {episode} Score: {score}\")"
   ]
  },
  {
   "cell_type": "markdown",
   "id": "8dc3944b",
   "metadata": {},
   "source": [
    "## 2. Update Q-table function <a name=\"update_q_table\"></a>\n",
    "This function will be called during training to populate the Q-table based on the Bellman equation. The Q-table will be then used during testing to make decisions about how to change the temperature at each shower step.\n",
    "Arguments:\n",
    "* a starting state and a finishing state (i.e. just the temperature at step n and the temperature at step n+1)\n",
    "* the action that took us from temperature at step n to temperature at step n+1 (i.e. up 1 degree, down 1 degree, up 0 degrees)\n",
    "* and the reward assigned to the action/final state\n",
    "\n",
    "And here's wikipedia on the two parameters, the learning (alpha) and discount (gamma) rates:\n",
    "\n",
    "> **Learning rate** -- The learning rate or step size determines to what extent newly acquired information overrides old information. A factor of 0 makes the agent learn nothing (exclusively exploiting prior knowledge), while a factor of 1 makes the agent consider only the most recent information (ignoring prior knowledge to explore possibilities). **In fully deterministic environments, a learning rate of alpha = 1 is optimal.** When the problem is stochastic, the algorithm converges under some technical conditions on the learning rate that require it to decrease to zero. In practice, often a constant learning rate is used...\n",
    "\n",
    "> **Discount factor** -- The discount factor determines the importance of future rewards. A factor of 0 will make the agent \"myopic\" (or short-sighted) by only considering current rewards ... while a factor approaching 1 will make it strive for a long-term high reward. If the discount factor meets or exceeds 1, the action values may diverge."
   ]
  },
  {
   "cell_type": "code",
   "execution_count": 4,
   "id": "a5665a77",
   "metadata": {},
   "outputs": [],
   "source": [
    "import numpy as np"
   ]
  },
  {
   "cell_type": "code",
   "execution_count": 5,
   "id": "65c0d5b7",
   "metadata": {},
   "outputs": [],
   "source": [
    "def update_q_table(params, q_table, state_i, state_f, action, step_reward):\n",
    "    try:\n",
    "        # note about 2d np array access:\n",
    "        # q_table[state_i] accesses the state_i-th row, which is an array with\n",
    "        # length equal to number of actions.\n",
    "        # q_table[state_i, action] access the action-th element of the state_ith\n",
    "        # array.\n",
    "        old_q_value = q_table[state_i, action]\n",
    "    except IndexError:\n",
    "        print(\"ERROR with q_table\")\n",
    "        print(q_table)\n",
    "        print(state_i, action)\n",
    "        return None\n",
    "    \n",
    "    # max q value given the state after this temp change\n",
    "    next_max = np.max(q_table[state_f])\n",
    "    q_target = step_reward + params['gamma'] * next_max\n",
    "    q_delta = q_target - old_q_value\n",
    "    q_table[state_i, action] = old_q_value + params['alpha'] * q_delta\n",
    "    \n",
    "    return q_table"
   ]
  },
  {
   "cell_type": "markdown",
   "id": "3d1a9ee0",
   "metadata": {},
   "source": [
    "## 3. Train and test function <a name=\"train_and_test\"></a>\n",
    "This function simulates `n_episodes` of showers. In `do_train` mode, it uses random decision making and populates the Q-table. In test mode, it uses a given Q-table to make decisions and does not update the Q-table.\n",
    "\n",
    "Return the Q-table that was filled/used and the average reward over all the showers."
   ]
  },
  {
   "cell_type": "code",
   "execution_count": 6,
   "id": "3e39ac0f",
   "metadata": {},
   "outputs": [],
   "source": [
    "# alpha - learning rate\n",
    "# gamma - discount rate\n",
    "# epsilon - exploration threshold (not currently used)\n",
    "default_params = {'alpha' : 0.9, 'gamma' : 1., 'epsilon' : 0.}"
   ]
  },
  {
   "cell_type": "code",
   "execution_count": 7,
   "id": "87fcb43e",
   "metadata": {},
   "outputs": [],
   "source": [
    "# loop showers\n",
    "def train_test(env, in_q_table, n_episodes = 200, do_train = True, params = default_params):\n",
    "    q_table = in_q_table.copy()\n",
    "    total_reward = 0\n",
    "    for i_shower in range(n_episodes):\n",
    "        done = False\n",
    "        env.reset()\n",
    "        state_i = env.state\n",
    "        shower_reward = 0\n",
    "        #print(i_shower)\n",
    "        while not done:\n",
    "            # choose action\n",
    "            action = env.action_space.sample() if do_train else np.argmax(q_table[state_i])\n",
    "\n",
    "            # take a step\n",
    "            state_f, reward, done, info = env.step(action)\n",
    "            #print(\"  \", env.shower_time, state, reward, done)\n",
    "            try:\n",
    "                assert state_f in env.observation_space\n",
    "            except AssertionError:\n",
    "                print(\"Invalid state obtained\", state_f, i_shower, env.shower_time, action)\n",
    "                break\n",
    "                                        \n",
    "            # update q table\n",
    "            if do_train:\n",
    "                q_table = update_q_table(params, q_table, state_i, state_f, action, reward)\n",
    "\n",
    "            # increment reward\n",
    "            shower_reward += reward\n",
    "\n",
    "            state_i = state_f\n",
    "            \n",
    "        #print(\"  Shower reward:\", shower_reward)\n",
    "        total_reward += shower_reward\n",
    "\n",
    "    #np.savetxt(\"qtable.csv\", q_table, delimiter=\",\")\n",
    "    avg_reward = total_reward / n_episodes\n",
    "    return q_table, avg_reward"
   ]
  },
  {
   "cell_type": "markdown",
   "id": "91c8c83d",
   "metadata": {},
   "source": [
    "## 4. Do the Training and Testing <a name=\"run\"></a>"
   ]
  },
  {
   "cell_type": "code",
   "execution_count": 8,
   "id": "e9ac6e28",
   "metadata": {
    "scrolled": true
   },
   "outputs": [],
   "source": [
    "# initial q table full of zeroes\n",
    "init_q_table = np.zeros([env.observation_space.n, env.action_space.n])"
   ]
  },
  {
   "cell_type": "code",
   "execution_count": 9,
   "id": "88dda035",
   "metadata": {},
   "outputs": [
    {
     "name": "stdout",
     "output_type": "stream",
     "text": [
      "average reward: -39.0\n"
     ]
    }
   ],
   "source": [
    "# Train for 2 episodes\n",
    "env = Shower()\n",
    "q_table, avg_reward = train_test(env, init_q_table, n_episodes = 2, do_train = True)\n",
    "print(f\"average reward: {avg_reward}\")"
   ]
  },
  {
   "cell_type": "markdown",
   "id": "58bbb7db-525f-4177-95f2-3d73ca6b1dc7",
   "metadata": {},
   "source": [
    "Here's a snippet of a random trained q_table after 2 episodes.\n",
    "```\n",
    "       [0.         ,  0.        ,  0.        ],\n",
    "       ...\n",
    "       [ 0.        ,  0.        ,  0.        ],\n",
    "       [ 0.        ,  0.        ,  0.        ],\n",
    "       [ 0.        ,  0.        ,  0.        ],\n",
    "       [ 0.        ,  0.        ,  0.        ],\n",
    "       [ 0.        , -0.9       , -0.99      ],\n",
    "       [-0.99      ,  0.        , -1.962     ],\n",
    "       [-0.99      , -1.9809909 , -2.88018   ],\n",
    "       [-1.98099909, -2.791801  , -1.89099   ],\n",
    "       [-2.801844  , -1.89      , -0.99      ],\n",
    "       [-1.962     , -0.9       ,  0.        ],\n",
    "       [ 0.        ,  0.        ,  0.        ],\n",
    "       [ 0.        ,  0.        ,  0.        ],\n",
    "       [ 0.        ,  2.439     ,  5.78691   ],\n",
    "       [ 4.9599    ,  3.51      ,  8.04880017],\n",
    "       [ 5.63949   ,  3.348     ,  9.04558011],\n",
    "       [ 8.22739887,  1.8       ,  3.42      ],\n",
    "       [ 2.61      ,  3.42      ,  1.65942   ],\n",
    "       [ 4.24719   , -0.9       , -0.99      ],\n",
    "       [ 1.43271   , -1.89      , -0.999     ],\n",
    "       [-0.999     , -0.99      ,  0.        ],\n",
    "       [ 0.        ,  0.        ,  0.        ],\n",
    "       [ 0.        ,  0.        ,  0.        ],\n",
    "       [ 0.        ,  0.        ,  0.        ],\n",
    "       [ 0.        ,  0.        ,  0.        ],\n",
    "       [ 0.        ,  0.        ,  0.        ],\n",
    "       ...\n",
    "       [0.         ,  0.        ,  0.        ]\n",
    "```\n",
    "The rows represent temperatures. The columns represent actions (lower, hold, raise), and the contents represent scores for those (action, temperature) pairs.\n",
    "\n",
    "* The rows of zeroes above and below the center populated region show that we never encountered those temperatures during training, so the q values are still at their default of 0.\n",
    "* The lower and upper edges of the populated region all have negative values. It was determined (somewhat incorrectly) that no decision in these regions was good. Seems like we need some more long-term thinking, and we should tweak the discount factor.\n",
    "* In the central region, as with the edges, we see lots of positive values, indicating that it's just good to be in this region and that no decision is bad.\n",
    "* We would expect, in the rows representing the edges of the goldilocks region to have positive q values for actions moving you in to the goldilocks regions, and negative for moving you out. And also high scores for any decision inside of the goldilocks region. Maybe we're seeing some of this, but more training and rewards tweaking is needed."
   ]
  },
  {
   "cell_type": "code",
   "execution_count": 10,
   "id": "029e1816",
   "metadata": {},
   "outputs": [
    {
     "name": "stdout",
     "output_type": "stream",
     "text": [
      "average reward: -36.88\n",
      "average reward: -31.24\n",
      "average reward: -38.16\n"
     ]
    }
   ],
   "source": [
    "# Test – how does our (inadequately-trained) table perform?\n",
    "avg_reward = train_test(env, q_table, n_episodes = 100, do_train = False)[1]\n",
    "print(f\"average reward: {avg_reward}\")\n",
    "avg_reward = train_test(env, q_table, n_episodes = 100, do_train = False)[1]\n",
    "print(f\"average reward: {avg_reward}\")\n",
    "avg_reward = train_test(env, q_table, n_episodes = 100, do_train = False)[1]\n",
    "print(f\"average reward: {avg_reward}\")"
   ]
  },
  {
   "cell_type": "markdown",
   "id": "98b960d4",
   "metadata": {},
   "source": [
    "## 5. Visualize and optimize some parameters <a name=\"visualize_and_optimize\"></a>"
   ]
  },
  {
   "cell_type": "markdown",
   "id": "5a8c06e3",
   "metadata": {},
   "source": [
    "### A. How Many Training Episodes is Good Enough? <a name=\"episodes\"></a>"
   ]
  },
  {
   "cell_type": "code",
   "execution_count": 11,
   "id": "1f566eab",
   "metadata": {
    "scrolled": true
   },
   "outputs": [
    {
     "name": "stdout",
     "output_type": "stream",
     "text": [
      "10 training episodes – average reward: 20.02\n",
      "20 training episodes – average reward: 48.96\n",
      "30 training episodes – average reward: 54.4\n",
      "40 training episodes – average reward: 54.28\n",
      "50 training episodes – average reward: 55.96\n",
      "60 training episodes – average reward: 55.12\n",
      "70 training episodes – average reward: 54.3\n",
      "80 training episodes – average reward: 55.14\n",
      "90 training episodes – average reward: 54.26\n"
     ]
    }
   ],
   "source": [
    "episodes = range(2,100,2)\n",
    "rewards = []\n",
    "for e in episodes:\n",
    "    env = Shower()\n",
    "    q_table = train_test(env, init_q_table, n_episodes = e, do_train = True)[0]\n",
    "    avg_reward = train_test(env, q_table, n_episodes = 100, do_train = False)[1]\n",
    "    if e % 10 == 0: \n",
    "        print(f\"{e} training episodes – average reward: {avg_reward}\")\n",
    "    rewards.append(avg_reward)"
   ]
  },
  {
   "cell_type": "markdown",
   "id": "eeb8a848-b702-49d3-a1ab-f9643859255a",
   "metadata": {},
   "source": [
    "And here's an updated snippet of a fully trained table.\n",
    "```\n",
    "       [  0.        ,   0.        ,   0.        ],\n",
    "       ...\n",
    "       [  0.        ,   0.        ,   0.        ],\n",
    "       [  0.        ,   0.        ,  -0.9       ],\n",
    "       [ -0.9       ,  -0.9       ,  -0.9       ],\n",
    "       [ -0.9       ,  -0.9       ,   0.        ],\n",
    "       [ -0.9       ,  -1.809     ,  28.49900963],\n",
    "       [ -1.80999   ,  35.9342987 ,  36.97207978],\n",
    "       [ 35.96096884,  37.88811935,  78.57399555],\n",
    "       [ 38.12830487,  83.15737332, 176.01796288],\n",
    "       [ 83.57566839, 185.02688814, 187.16961324],\n",
    "       [186.14149708, 187.49418128, 241.74084734],\n",
    "       [235.41911116, 259.55709776, 264.34299263],\n",
    "       [263.26866923, 189.53685332, 265.37398727],\n",
    "       [264.06404117, 247.35452374, 266.56255314],\n",
    "       [265.43327242, 266.76717269, 267.7865623 ],\n",
    "       [266.75461185, 267.79664878, 270.84457776],\n",
    "       [269.83089552, 268.79878853, 271.85313259],\n",
    "       [270.85213516, 273.35071338, 274.35072835],\n",
    "       [273.20064232, 274.50072655, 275.51723338],\n",
    "       [274.51716044, 275.51724797, 276.51724959],\n",
    "       [275.35515226, 276.3349731 , 277.6973395 ],\n",
    "       [276.69668839, 276.6975196 , 276.79960825],\n",
    "       [277.55792043, 275.89760887, 270.03566386],\n",
    "       [268.55469309, 271.8093068 , 270.00072763],\n",
    "       [269.52680288, 269.95557404, 263.0425605 ],\n",
    "       [262.16676954, 263.06091359, 262.56517662],\n",
    "       [263.85520285, 250.30889391, 259.4710608 ],\n",
    "       [261.60143171, 260.48661541, 257.45336513],\n",
    "       [259.47105916, 257.42502104, 247.20201845],\n",
    "       [257.44885236, 246.77985635, 239.80510546],\n",
    "       [246.49447994, 214.20291456, 213.2028322 ],\n",
    "       [214.20290116, 213.18012256, 212.19327786],\n",
    "       [213.1990518 , 211.573488  , 211.00493743],\n",
    "       [212.19183993, 211.11473351, 209.22956588],\n",
    "       [211.09488433, 206.59181871, 177.07813375],\n",
    "       [204.03766397, 177.07813599, 168.10417467],\n",
    "       [176.65844874, 171.84340914, 132.73482134],\n",
    "       [168.06984327, 132.76453742, 128.50160545],\n",
    "       [132.44371699, 127.09787625, 114.07868635],\n",
    "       [127.20416565,  92.13047745,  -2.6289    ],\n",
    "       [ -1.98972   ,  -2.7       ,  -1.89099   ],\n",
    "       [ -2.70981   ,  -0.99      ,  -1.899     ],\n",
    "       [ -1.9872    ,  -0.9       ,  -1.809     ],\n",
    "       [ -0.99      ,  -0.9       ,  -1.9791    ],\n",
    "       [ -1.881     ,  -1.890999  ,  -0.999     ],\n",
    "       [ -0.99      ,  -0.999     ,   0.        ],\n",
    "       [  0.        ,   0.        ,   0.        ],\n",
    "       [  0.        ,   0.        ,   0.        ],\n",
    "       ...\n",
    "       [  0.        ,   0.        ,   0.        ],\n",
    "```\n",
    "The desired temperature range is only 4 degrees (38+/-2). Why are the rows above and below that all positives? The answer is that we choose an action, given a row, based on the `max` value. We don't need and shouldn't expect to see a large distinction between good and bad decisions in a row. After long enough training, the whole table will be large positive numbers.\n",
    "\n",
    "Let's make sure a few random rows make sense, though. The table indeed peaks at row 38. The max values for the entire table appear on rows 37 and 39 at the actions to increase one deg and decrease one deg, respectively -- exactly what we want. And indeed below the peak, raise actions are all higher than lower actions and visa versa above the peak. Looks good.\n",
    "\n",
    "This game is really easy, and we've solved it. Nothing left to do. But for a harder task, we may want to avoid runaway rewards, change the `max` decision maker, or create more separation between good and bad decisions. It would be more gratifying/intuitive to see bad decisions get negative values!"
   ]
  },
  {
   "cell_type": "code",
   "execution_count": 12,
   "id": "d5effd36",
   "metadata": {},
   "outputs": [],
   "source": [
    "import matplotlib.pyplot as plt"
   ]
  },
  {
   "cell_type": "code",
   "execution_count": 13,
   "id": "a37561bb",
   "metadata": {},
   "outputs": [
    {
     "data": {
      "image/png": "[encoded data removed]",
      "text/plain": [
       "<Figure size 800x400 with 1 Axes>"
      ]
     },
     "metadata": {},
     "output_type": "display_data"
    }
   ],
   "source": [
    "plt.style.use('_mpl-gallery')\n",
    "\n",
    "fig, ax = plt.subplots(figsize=(8,4))\n",
    "\n",
    "ax.scatter(episodes, rewards)\n",
    "\n",
    "plt.ylabel('average reward over 100 test showers')\n",
    "plt.xlabel('training episodes')\n",
    "\n",
    "plt.show()"
   ]
  },
  {
   "cell_type": "markdown",
   "id": "9a1a7898",
   "metadata": {},
   "source": [
    "### B. Find Optimal Training Parameters with a Grid Search <a name=\"grid_search\"></a>\n",
    "Search a 3D parameter space learning rate x discount rate x n training episodes."
   ]
  },
  {
   "cell_type": "code",
   "execution_count": 14,
   "id": "81cb76e4",
   "metadata": {},
   "outputs": [],
   "source": [
    "from sklearn.model_selection import ParameterGrid\n",
    "from collections import defaultdict"
   ]
  },
  {
   "cell_type": "markdown",
   "id": "e62704a0",
   "metadata": {},
   "source": [
    "#### Do the grid search"
   ]
  },
  {
   "cell_type": "code",
   "execution_count": 15,
   "id": "902e73d1",
   "metadata": {},
   "outputs": [],
   "source": [
    "# 20x10x10 = 2000 trainings, many of them short\n",
    "param_grid = ParameterGrid({'alpha': np.arange(0., 1., 0.1).tolist(), \n",
    "                            'gamma': np.arange(0., 1., 0.1).tolist(), \n",
    "                            'n_episodes' : range(10,100,10)})\n",
    "alphas = defaultdict(list)\n",
    "gammas = defaultdict(list)\n",
    "rewards = defaultdict(list)\n",
    "for p in list(param_grid):\n",
    "    env = Shower()\n",
    "    q_table = train_test(env, init_q_table, n_episodes = p['n_episodes'], do_train = True, params=p)[0]\n",
    "    avg_reward = train_test(env, q_table, n_episodes = 100, do_train = False)[1]\n",
    "    alphas[p['n_episodes']].append(p['alpha'])\n",
    "    gammas[p['n_episodes']].append(p['gamma'])\n",
    "    rewards[p['n_episodes']].append(avg_reward)        \n",
    "    #print(f\"{e} training episodes – average reward: {avg_reward}\")"
   ]
  },
  {
   "cell_type": "markdown",
   "id": "8d6cad9d",
   "metadata": {},
   "source": [
    "#### plot rewards vs parameters\n",
    "with a slidebar for the number of trainings"
   ]
  },
  {
   "cell_type": "code",
   "execution_count": 22,
   "id": "220294d1",
   "metadata": {},
   "outputs": [
    {
     "name": "stderr",
     "output_type": "stream",
     "text": [
      "[autoreload of IPython.core.interactiveshell failed: Traceback (most recent call last):\n",
      "  File \"/opt/homebrew/Caskroom/miniconda/base/envs/sb3/lib/python3.10/site-packages/IPython/extensions/autoreload.py\", line 276, in check\n",
      "    superreload(m, reload, self.old_objects)\n",
      "  File \"/opt/homebrew/Caskroom/miniconda/base/envs/sb3/lib/python3.10/site-packages/IPython/extensions/autoreload.py\", line 500, in superreload\n",
      "    update_generic(old_obj, new_obj)\n",
      "  File \"/opt/homebrew/Caskroom/miniconda/base/envs/sb3/lib/python3.10/site-packages/IPython/extensions/autoreload.py\", line 397, in update_generic\n",
      "    update(a, b)\n",
      "  File \"/opt/homebrew/Caskroom/miniconda/base/envs/sb3/lib/python3.10/site-packages/IPython/extensions/autoreload.py\", line 365, in update_class\n",
      "    update_instances(old, new)\n",
      "  File \"/opt/homebrew/Caskroom/miniconda/base/envs/sb3/lib/python3.10/site-packages/IPython/extensions/autoreload.py\", line 323, in update_instances\n",
      "    object.__setattr__(ref, \"__class__\", new)\n",
      "TypeError: __class__ assignment: 'PickleShareDB' object layout differs from 'PickleShareDB'\n",
      "]\n",
      "[autoreload of typing_extensions failed: Traceback (most recent call last):\n",
      "  File \"/opt/homebrew/Caskroom/miniconda/base/envs/sb3/lib/python3.10/site-packages/IPython/extensions/autoreload.py\", line 276, in check\n",
      "    superreload(m, reload, self.old_objects)\n",
      "  File \"/opt/homebrew/Caskroom/miniconda/base/envs/sb3/lib/python3.10/site-packages/IPython/extensions/autoreload.py\", line 475, in superreload\n",
      "    module = reload(module)\n",
      "  File \"/opt/homebrew/Caskroom/miniconda/base/envs/sb3/lib/python3.10/importlib/__init__.py\", line 169, in reload\n",
      "    _bootstrap._exec(spec, module)\n",
      "  File \"<frozen importlib._bootstrap>\", line 619, in _exec\n",
      "  File \"<frozen importlib._bootstrap_external>\", line 883, in exec_module\n",
      "  File \"<frozen importlib._bootstrap>\", line 241, in _call_with_frames_removed\n",
      "  File \"/opt/homebrew/Caskroom/miniconda/base/envs/sb3/lib/python3.10/site-packages/typing_extensions.py\", line 740, in <module>\n",
      "    class SupportsAbs(Protocol[T_co]):\n",
      "  File \"/opt/homebrew/Caskroom/miniconda/base/envs/sb3/lib/python3.10/typing.py\", line 309, in inner\n",
      "    return cached(*args, **kwds)\n",
      "  File \"/opt/homebrew/Caskroom/miniconda/base/envs/sb3/lib/python3.10/typing.py\", line 1346, in __class_getitem__\n",
      "    return _GenericAlias(cls, params,\n",
      "  File \"/opt/homebrew/Caskroom/miniconda/base/envs/sb3/lib/python3.10/typing.py\", line 1025, in __init__\n",
      "    self.__parameters__ = _collect_type_vars(params, typevar_types=_typevar_types)\n",
      "NameError: name '_is_unpack' is not defined\n",
      "]\n"
     ]
    },
    {
     "ename": "TypeError",
     "evalue": "isinstance() arg 2 must be a type, a tuple of types, or a union",
     "output_type": "error",
     "traceback": [
      "\u001b[0;31m---------------------------------------------------------------------------\u001b[0m",
      "\u001b[0;31mTypeError\u001b[0m                                 Traceback (most recent call last)",
      "File \u001b[0;32m/opt/homebrew/Caskroom/miniconda/base/envs/sb3/lib/python3.10/site-packages/IPython/core/async_helpers.py:129\u001b[0m, in \u001b[0;36m_pseudo_sync_runner\u001b[0;34m(coro)\u001b[0m\n\u001b[1;32m    121\u001b[0m \u001b[38;5;250m\u001b[39m\u001b[38;5;124;03m\"\"\"\u001b[39;00m\n\u001b[1;32m    122\u001b[0m \u001b[38;5;124;03mA runner that does not really allow async execution, and just advance the coroutine.\u001b[39;00m\n\u001b[1;32m    123\u001b[0m \n\u001b[0;32m   (...)\u001b[0m\n\u001b[1;32m    126\u001b[0m \u001b[38;5;124;03mCredit to Nathaniel Smith\u001b[39;00m\n\u001b[1;32m    127\u001b[0m \u001b[38;5;124;03m\"\"\"\u001b[39;00m\n\u001b[1;32m    128\u001b[0m \u001b[38;5;28;01mtry\u001b[39;00m:\n\u001b[0;32m--> 129\u001b[0m     \u001b[43mcoro\u001b[49m\u001b[38;5;241;43m.\u001b[39;49m\u001b[43msend\u001b[49m\u001b[43m(\u001b[49m\u001b[38;5;28;43;01mNone\u001b[39;49;00m\u001b[43m)\u001b[49m\n\u001b[1;32m    130\u001b[0m \u001b[38;5;28;01mexcept\u001b[39;00m \u001b[38;5;167;01mStopIteration\u001b[39;00m \u001b[38;5;28;01mas\u001b[39;00m exc:\n\u001b[1;32m    131\u001b[0m     \u001b[38;5;28;01mreturn\u001b[39;00m exc\u001b[38;5;241m.\u001b[39mvalue\n",
      "File \u001b[0;32m/opt/homebrew/Caskroom/miniconda/base/envs/sb3/lib/python3.10/site-packages/IPython/core/interactiveshell.py:3302\u001b[0m, in \u001b[0;36mInteractiveShell.run_cell_async\u001b[0;34m(self, raw_cell, store_history, silent, shell_futures, transformed_cell, preprocessing_exc_tuple, cell_id)\u001b[0m\n\u001b[1;32m   3298\u001b[0m     \u001b[38;5;28;01mreturn\u001b[39;00m error_before_exec(e)\n\u001b[1;32m   3300\u001b[0m \u001b[38;5;66;03m# Give the displayhook a reference to our ExecutionResult so it\u001b[39;00m\n\u001b[1;32m   3301\u001b[0m \u001b[38;5;66;03m# can fill in the output value.\u001b[39;00m\n\u001b[0;32m-> 3302\u001b[0m \u001b[38;5;28;43mself\u001b[39;49m\u001b[38;5;241;43m.\u001b[39;49m\u001b[43mdisplayhook\u001b[49m\u001b[38;5;241;43m.\u001b[39;49m\u001b[43mexec_result\u001b[49m \u001b[38;5;241m=\u001b[39m result\n\u001b[1;32m   3304\u001b[0m \u001b[38;5;66;03m# Execute the user code\u001b[39;00m\n\u001b[1;32m   3305\u001b[0m interactivity \u001b[38;5;241m=\u001b[39m \u001b[38;5;124m\"\u001b[39m\u001b[38;5;124mnone\u001b[39m\u001b[38;5;124m\"\u001b[39m \u001b[38;5;28;01mif\u001b[39;00m silent \u001b[38;5;28;01melse\u001b[39;00m \u001b[38;5;28mself\u001b[39m\u001b[38;5;241m.\u001b[39mast_node_interactivity\n",
      "File \u001b[0;32m/opt/homebrew/Caskroom/miniconda/base/envs/sb3/lib/python3.10/site-packages/traitlets/traitlets.py:718\u001b[0m, in \u001b[0;36mTraitType.__set__\u001b[0;34m(self, obj, value)\u001b[0m\n\u001b[1;32m    716\u001b[0m     \u001b[38;5;28;01mraise\u001b[39;00m TraitError(\u001b[38;5;124m'\u001b[39m\u001b[38;5;124mThe \u001b[39m\u001b[38;5;124m\"\u001b[39m\u001b[38;5;132;01m%s\u001b[39;00m\u001b[38;5;124m\"\u001b[39m\u001b[38;5;124m trait is read-only.\u001b[39m\u001b[38;5;124m'\u001b[39m \u001b[38;5;241m%\u001b[39m \u001b[38;5;28mself\u001b[39m\u001b[38;5;241m.\u001b[39mname)\n\u001b[1;32m    717\u001b[0m \u001b[38;5;28;01melse\u001b[39;00m:\n\u001b[0;32m--> 718\u001b[0m     \u001b[38;5;28;43mself\u001b[39;49m\u001b[38;5;241;43m.\u001b[39;49m\u001b[43mset\u001b[49m\u001b[43m(\u001b[49m\u001b[43mobj\u001b[49m\u001b[43m,\u001b[49m\u001b[43m \u001b[49m\u001b[43mvalue\u001b[49m\u001b[43m)\u001b[49m\n",
      "File \u001b[0;32m/opt/homebrew/Caskroom/miniconda/base/envs/sb3/lib/python3.10/site-packages/traitlets/traitlets.py:691\u001b[0m, in \u001b[0;36mTraitType.set\u001b[0;34m(self, obj, value)\u001b[0m\n\u001b[1;32m    690\u001b[0m \u001b[38;5;28;01mdef\u001b[39;00m \u001b[38;5;21mset\u001b[39m(\u001b[38;5;28mself\u001b[39m, obj: HasTraits, value: S) \u001b[38;5;241m-\u001b[39m\u001b[38;5;241m>\u001b[39m \u001b[38;5;28;01mNone\u001b[39;00m:\n\u001b[0;32m--> 691\u001b[0m     new_value \u001b[38;5;241m=\u001b[39m \u001b[38;5;28;43mself\u001b[39;49m\u001b[38;5;241;43m.\u001b[39;49m\u001b[43m_validate\u001b[49m\u001b[43m(\u001b[49m\u001b[43mobj\u001b[49m\u001b[43m,\u001b[49m\u001b[43m \u001b[49m\u001b[43mvalue\u001b[49m\u001b[43m)\u001b[49m\n\u001b[1;32m    692\u001b[0m     \u001b[38;5;28;01massert\u001b[39;00m \u001b[38;5;28mself\u001b[39m\u001b[38;5;241m.\u001b[39mname \u001b[38;5;129;01mis\u001b[39;00m \u001b[38;5;129;01mnot\u001b[39;00m \u001b[38;5;28;01mNone\u001b[39;00m\n\u001b[1;32m    693\u001b[0m     \u001b[38;5;28;01mtry\u001b[39;00m:\n",
      "File \u001b[0;32m/opt/homebrew/Caskroom/miniconda/base/envs/sb3/lib/python3.10/site-packages/traitlets/traitlets.py:724\u001b[0m, in \u001b[0;36mTraitType._validate\u001b[0;34m(self, obj, value)\u001b[0m\n\u001b[1;32m    722\u001b[0m     \u001b[38;5;28;01mreturn\u001b[39;00m value\n\u001b[1;32m    723\u001b[0m \u001b[38;5;28;01mif\u001b[39;00m \u001b[38;5;28mhasattr\u001b[39m(\u001b[38;5;28mself\u001b[39m, \u001b[38;5;124m\"\u001b[39m\u001b[38;5;124mvalidate\u001b[39m\u001b[38;5;124m\"\u001b[39m):\n\u001b[0;32m--> 724\u001b[0m     value \u001b[38;5;241m=\u001b[39m \u001b[38;5;28;43mself\u001b[39;49m\u001b[38;5;241;43m.\u001b[39;49m\u001b[43mvalidate\u001b[49m\u001b[43m(\u001b[49m\u001b[43mobj\u001b[49m\u001b[43m,\u001b[49m\u001b[43m \u001b[49m\u001b[43mvalue\u001b[49m\u001b[43m)\u001b[49m\n\u001b[1;32m    725\u001b[0m \u001b[38;5;28;01mif\u001b[39;00m obj\u001b[38;5;241m.\u001b[39m_cross_validation_lock \u001b[38;5;129;01mis\u001b[39;00m \u001b[38;5;28;01mFalse\u001b[39;00m:\n\u001b[1;32m    726\u001b[0m     value \u001b[38;5;241m=\u001b[39m \u001b[38;5;28mself\u001b[39m\u001b[38;5;241m.\u001b[39m_cross_validate(obj, value)\n",
      "File \u001b[0;32m/opt/homebrew/Caskroom/miniconda/base/envs/sb3/lib/python3.10/site-packages/traitlets/traitlets.py:2311\u001b[0m, in \u001b[0;36mInstance.validate\u001b[0;34m(self, obj, value)\u001b[0m\n\u001b[1;32m   2309\u001b[0m \u001b[38;5;28;01mif\u001b[39;00m \u001b[38;5;28mself\u001b[39m\u001b[38;5;241m.\u001b[39mallow_none \u001b[38;5;129;01mand\u001b[39;00m value \u001b[38;5;129;01mis\u001b[39;00m \u001b[38;5;28;01mNone\u001b[39;00m:\n\u001b[1;32m   2310\u001b[0m     \u001b[38;5;28;01mreturn\u001b[39;00m value\n\u001b[0;32m-> 2311\u001b[0m \u001b[38;5;28;01mif\u001b[39;00m \u001b[38;5;28;43misinstance\u001b[39;49m\u001b[43m(\u001b[49m\u001b[43mvalue\u001b[49m\u001b[43m,\u001b[49m\u001b[43m \u001b[49m\u001b[38;5;28;43mself\u001b[39;49m\u001b[38;5;241;43m.\u001b[39;49m\u001b[43mklass\u001b[49m\u001b[43m)\u001b[49m:  \u001b[38;5;66;03m# type:ignore[arg-type]\u001b[39;00m\n\u001b[1;32m   2312\u001b[0m     \u001b[38;5;28;01mreturn\u001b[39;00m t\u001b[38;5;241m.\u001b[39mcast(T, value)\n\u001b[1;32m   2313\u001b[0m \u001b[38;5;28;01melse\u001b[39;00m:\n",
      "\u001b[0;31mTypeError\u001b[0m: isinstance() arg 2 must be a type, a tuple of types, or a union"
     ]
    }
   ],
   "source": [
    "import math\n",
    "from ipywidgets import interact,widgets,fixed"
   ]
  },
  {
   "cell_type": "code",
   "execution_count": null,
   "id": "4c4cce80",
   "metadata": {},
   "outputs": [],
   "source": [
    "def plot_hyperparams_grid(n_episodes, data_x, data_y, data_z):\n",
    "    f, ax = plt.subplots(figsize=(8,6))\n",
    "    \n",
    "    graph_x = data_x[n_episodes]\n",
    "    graph_y = data_y[n_episodes]\n",
    "    graph_z = data_z[n_episodes]\n",
    "    \n",
    "    # marker sizes - 1 invisible, 10 very small, 100 small, 5000 very big,  \n",
    "    size_list=np.array(graph_z)\n",
    "    size_list = [5e-12*(i+60)**7 for i in size_list]\n",
    "    \n",
    "    points=ax.scatter(graph_x, graph_y, c=graph_z, cmap='viridis',vmin=0,vmax=60,marker='o',s=size_list)\n",
    "    cbar=plt.colorbar(points)\n",
    "    cbar.set_label(\"Rewards\", fontsize=14)\n",
    "    ax.set_xlabel(r'$\\alpha$ - learning rate',fontsize=14)\n",
    "    ax.set_ylabel(r'$\\gamma$ - discount rate',fontsize=14)\n",
    "    ax.set_yticks(np.arange(0,1,.1))\n",
    "    ax.set_xticks(np.arange(0,1,.1))\n",
    "    ax.set_title(f\"Parameter space at {n_episodes} training episodes\")\n",
    "    plt.show()\n",
    "\n",
    "plot_hyperparams_grid(80,alphas,gammas,rewards)\n",
    "    \n",
    "interact(\n",
    "        plot_hyperparams_grid,\n",
    "        n_episodes = widgets.SelectionSlider(description='train length', options = list(alphas.keys())), \n",
    "        data_x = fixed(alphas), \n",
    "        data_y = fixed(gammas),\n",
    "        data_z = fixed(rewards)\n",
    "        );"
   ]
  },
  {
   "cell_type": "markdown",
   "id": "4ff33595",
   "metadata": {},
   "source": [
    "#### And what's the best training parameter pair given each training length?"
   ]
  },
  {
   "cell_type": "code",
   "execution_count": 18,
   "id": "6a0e20fa",
   "metadata": {},
   "outputs": [
    {
     "name": "stdout",
     "output_type": "stream",
     "text": [
      "n_training episodes | max reward | alpha | gamma\n",
      "                 10 |      37.26 |   0.9 |   0.8\n",
      "                 20 |      55.20 |   0.9 |   0.9\n",
      "                 30 |      55.02 |   0.8 |   0.8\n",
      "                 40 |      55.36 |   0.9 |   0.9\n",
      "                 50 |      55.42 |   0.7 |   0.9\n",
      "                 60 |      55.06 |   0.8 |   0.5\n",
      "                 70 |      55.72 |   0.7 |   0.9\n",
      "                 80 |      55.26 |   0.8 |   0.5\n",
      "                 90 |      56.00 |   0.3 |   0.8\n"
     ]
    }
   ],
   "source": [
    "print(\"n_training episodes | max reward | alpha | gamma\")\n",
    "for training, reward in rewards.items():\n",
    "    max_reward = max(reward)\n",
    "    alpha = alphas[training][reward.index(max(reward))]\n",
    "    gamma = gammas[training][reward.index(max(reward))]\n",
    "    print(f'{training:19} | {max_reward:10.2f} | {alpha:5.1f} | {gamma:5.1f}')"
   ]
  },
  {
   "cell_type": "markdown",
   "id": "f587eed7",
   "metadata": {},
   "source": [
    "#### Seems like some of these are statistical flukes.  alpha, gamma = 1,1 clearly performs best across all n_trainings"
   ]
  }
 ],
 "metadata": {
  "jupytext": {
   "cell_metadata_filter": "-all",
   "executable": "/usr/bin/python",
   "formats": "ipynb,py",
   "main_language": "python"
  },
  "kernelspec": {
   "display_name": "Python 3 (ipykernel)",
   "language": "python",
   "name": "python3"
  },
  "language_info": {
   "codemirror_mode": {
    "name": "ipython",
    "version": 3
   },
   "file_extension": ".py",
   "mimetype": "text/x-python",
   "name": "python",
   "nbconvert_exporter": "python",
   "pygments_lexer": "ipython3",
   "version": "3.10.13"
  }
 },
 "nbformat": 4,
 "nbformat_minor": 5
}
